{
 "cells": [
  {
   "cell_type": "code",
   "execution_count": 1,
   "metadata": {
    "collapsed": true
   },
   "outputs": [],
   "source": [
    "from dolo import *\n",
    "from matplotlib import pyplot as plt\n",
    "%matplotlib inline"
   ]
  },
  {
   "cell_type": "markdown",
   "metadata": {},
   "source": [
    "# Chamberlain's model"
   ]
  },
  {
   "cell_type": "markdown",
   "metadata": {},
   "source": [
    "Income process $y_t$ and interest rate $r_t$ are both normally distributed with:\n",
    "    $$y_t = \\overline{y} + \\epsilon_{y,t}$$\n",
    "    $$r_t = \\overline{r} + \\epsilon_{r,t}$$\n",
    "    \n",
    "The variance of $\\epsilon_{y,t}$ (resp $\\epsilon_{r,t}$) is $\\sigma_{y}$ (resp $\\sigma_{r}$).\n",
    "\n",
    "We normalize: $\\overline{y}=1$ and given discount factor $\\beta$, we set $\\overline{r}=\\frac{1}{\\beta}+\\Delta r$.\n",
    "\n",
    "The law of motion for cash-in-hand $m_t$ is:\n",
    "\n",
    "$$m_t = y_t + (m_{t-1}-c_{t-1})r_t$$\n",
    "\n",
    "The consumption $c_{t-1}\\in]0,m_t]$ si chosen optimally so that the following Euler criterium  is zero:\n",
    "\n",
    "$$ E_t \\left[ \\frac{c_{t+1}}{c_t} \\beta r_{t+1}\\right] - 1$$\n",
    "\n",
    "the slackness onditions imply that this criterium is positive only if $c_t=0$ (i.e. never) or negative if $c_t=m_t$.\n",
    "\n",
    "For any $m_{t}$ there is a level of consumption $\\overline{c}_t$ such that $E_t \\left[ m_{t+1} \\right] = m_t$. It is defined by:\n",
    "\n",
    "$$ c_t = m_t \\left(1-\\frac{1}{\\overline{r}}\\right) + \\frac{y_t}{\\overline{r}}$$"
   ]
  },
  {
   "cell_type": "markdown",
   "metadata": {},
   "source": [
    "# interactive version"
   ]
  },
  {
   "cell_type": "code",
   "execution_count": 2,
   "metadata": {
    "collapsed": false
   },
   "outputs": [
    {
     "name": "stdout",
     "output_type": "stream",
     "text": [
      "Model type detected as 'dtcscc'\n",
      "Missing model name. Set as 'anonymous'\n"
     ]
    }
   ],
   "source": [
    "model = yaml_import('chamberlain.yaml')\n",
    "drp = approximate_controls(model, eigmax=1.0001)"
   ]
  },
  {
   "cell_type": "code",
   "execution_count": 3,
   "metadata": {
    "collapsed": false
   },
   "outputs": [],
   "source": [
    "from dolo.misc.decorators import cachedondisk\n",
    "def solve_calib(**calib):\n",
    "    # computes\n",
    "    model.set_calibration(**calib)\n",
    "#     drp = approximate_controls(model, eigmax=1.0001)\n",
    "    dr = time_iteration(model, initial_dr=drp, interp_type='spline',interp_orders=[20],verbose=False)\n",
    "    dr = time_iteration(model, initial_dr=dr, interp_type='spline',interp_orders=[100],verbose=False,integration_orders=[10,10])\n",
    "#     dr = time_iteration(model, initial_dr=dr, interp_type='spline',interp_orders=[100],verbose=False)\n",
    "\n",
    "#     mdr = time_iteration(model, verbose=False)\n",
    "#     sim = simulate(model, dr, 0)\n",
    "    dsim = plot_decision_rule(model, dr, 'm',n_steps=100, bounds=(0,10))\n",
    "    return [dr,dsim]\n",
    "dr, dsim = solve_calib() # -> returns the consumption when m varies linearly"
   ]
  },
  {
   "cell_type": "code",
   "execution_count": 4,
   "metadata": {
    "collapsed": false
   },
   "outputs": [
    {
     "data": {
      "image/png": "[encoded data removed]",
      "text/plain": [
       "<matplotlib.figure.Figure at 0x7f614c3ef0f0>"
      ]
     },
     "metadata": {},
     "output_type": "display_data"
    }
   ],
   "source": [
    "from ipywidgets import interact\n",
    "@interact\n",
    "def play_with_results(beta=(0.94,0.96,0.005),gamma=(1,8,1),delta_r=(-0.01,0.01,0.001), sigma_y=(0.0, 0.2, 0.05 ), sigma_r=(0.0, 0.05, 0.005 )):\n",
    "\n",
    "    [dr,dsim] = solve_calib(delta_r=delta_r, beta=beta, gamma=gamma, sigma_r=sigma_r, sigma_y=sigma_y)\n",
    "\n",
    "    plt.plot(dsim['m'], dsim['c'])\n",
    "    plt.plot(dsim['m'], dsim['m'], color='black', linestyle='--')\n",
    "    plt.ylim(0.6,1.5)\n",
    "    r = model.get_calibration('r')\n",
    "    y = 1\n",
    "    noacc = dsim['m']-(dsim['m']-y)/r\n",
    "    plt.plot(dsim['m'],noacc, color='green')\n",
    "    # find intersection points\n",
    "    d = numpy.array(dsim['c'] - noacc)\n",
    "    inds = numpy.where( (d[1:]*d[:-1])<0 )[0]\n",
    "    for i in inds:\n",
    "        plt.plot(dsim['m'][i], noacc[i],'o', color='red')\n",
    "# \"hint: try delta_r <0\""
   ]
  },
  {
   "cell_type": "markdown",
   "metadata": {},
   "source": [
    "# manual version"
   ]
  },
  {
   "cell_type": "code",
   "execution_count": 5,
   "metadata": {
    "collapsed": false
   },
   "outputs": [
    {
     "name": "stdout",
     "output_type": "stream",
     "text": [
      "Model type detected as 'dtcscc'\n",
      "Missing model name. Set as 'anonymous'\n"
     ]
    }
   ],
   "source": [
    "# import the model\n",
    "model = yaml_import('chamberlain.yaml')"
   ]
  },
  {
   "cell_type": "code",
   "execution_count": 6,
   "metadata": {
    "collapsed": true
   },
   "outputs": [],
   "source": [
    "# set calibration\n",
    "model.set_calibration(beta=0.95, gamma=4, delta_r=-0.001, sigma_y=0.1, sigma_r=0.025)"
   ]
  },
  {
   "cell_type": "code",
   "execution_count": 7,
   "metadata": {
    "collapsed": false
   },
   "outputs": [
    {
     "name": "stdout",
     "output_type": "stream",
     "text": [
      "Using bounds specified by model\n",
      "Starting time iteration\n",
      "------------------------------------------------\n",
      "| N   |  Error     | Gain     | Time     | nit |\n",
      "------------------------------------------------\n",
      "|   1 |  2.000e-01 |    0.200 |    0.214 |  10 |\n",
      "|   2 |  1.145e-01 |    0.573 |    0.122 |   7 |\n",
      "|   3 |  6.810e-02 |    0.595 |    0.089 |   5 |\n",
      "|   4 |  4.248e-02 |    0.624 |    0.074 |   4 |\n",
      "|   5 |  2.894e-02 |    0.681 |    0.102 |   5 |\n",
      "|   6 |  2.081e-02 |    0.719 |    0.074 |   4 |\n",
      "|   7 |  1.543e-02 |    0.741 |    0.071 |   4 |\n",
      "|   8 |  1.174e-02 |    0.761 |    0.078 |   5 |\n",
      "|   9 |  9.154e-03 |    0.779 |    0.077 |   5 |\n",
      "|  10 |  7.270e-03 |    0.794 |    0.071 |   4 |\n",
      "|  11 |  5.866e-03 |    0.807 |    0.063 |   4 |\n",
      "|  12 |  4.807e-03 |    0.820 |    0.063 |   4 |\n",
      "|  13 |  3.982e-03 |    0.828 |    0.050 |   3 |\n",
      "|  14 |  3.328e-03 |    0.836 |    0.048 |   3 |\n",
      "|  15 |  2.805e-03 |    0.843 |    0.048 |   3 |\n",
      "|  16 |  2.387e-03 |    0.851 |    0.048 |   3 |\n",
      "|  17 |  2.045e-03 |    0.857 |    0.049 |   3 |\n",
      "|  18 |  1.762e-03 |    0.862 |    0.048 |   3 |\n",
      "|  19 |  1.527e-03 |    0.867 |    0.047 |   3 |\n",
      "|  20 |  1.332e-03 |    0.872 |    0.049 |   3 |\n",
      "|  21 |  1.167e-03 |    0.876 |    0.034 |   2 |\n",
      "|  22 |  1.026e-03 |    0.879 |    0.034 |   2 |\n",
      "|  23 |  9.074e-04 |    0.884 |    0.034 |   2 |\n",
      "|  24 |  8.052e-04 |    0.887 |    0.034 |   2 |\n",
      "|  25 |  7.168e-04 |    0.890 |    0.033 |   2 |\n",
      "|  26 |  6.404e-04 |    0.893 |    0.034 |   2 |\n",
      "|  27 |  5.742e-04 |    0.897 |    0.033 |   2 |\n",
      "|  28 |  5.164e-04 |    0.899 |    0.034 |   2 |\n",
      "|  29 |  4.655e-04 |    0.902 |    0.035 |   2 |\n",
      "|  30 |  4.208e-04 |    0.904 |    0.034 |   2 |\n",
      "|  31 |  3.816e-04 |    0.907 |    0.034 |   2 |\n",
      "|  32 |  3.468e-04 |    0.909 |    0.034 |   2 |\n",
      "|  33 |  3.159e-04 |    0.911 |    0.033 |   2 |\n",
      "|  34 |  2.883e-04 |    0.913 |    0.034 |   2 |\n",
      "|  35 |  2.636e-04 |    0.914 |    0.034 |   2 |\n",
      "|  36 |  2.415e-04 |    0.916 |    0.034 |   2 |\n",
      "|  37 |  2.217e-04 |    0.918 |    0.034 |   2 |\n",
      "|  38 |  2.039e-04 |    0.919 |    0.034 |   2 |\n",
      "|  39 |  1.877e-04 |    0.921 |    0.033 |   2 |\n",
      "|  40 |  1.731e-04 |    0.922 |    0.034 |   2 |\n",
      "|  41 |  1.598e-04 |    0.923 |    0.034 |   2 |\n",
      "|  42 |  1.476e-04 |    0.924 |    0.035 |   2 |\n",
      "|  43 |  1.366e-04 |    0.925 |    0.034 |   2 |\n",
      "|  44 |  1.265e-04 |    0.926 |    0.034 |   2 |\n",
      "|  45 |  1.172e-04 |    0.927 |    0.034 |   2 |\n",
      "|  46 |  1.087e-04 |    0.928 |    0.034 |   2 |\n",
      "|  47 |  1.009e-04 |    0.928 |    0.035 |   2 |\n",
      "|  48 |  9.374e-05 |    0.929 |    0.034 |   2 |\n",
      "|  49 |  8.714e-05 |    0.930 |    0.035 |   2 |\n",
      "|  50 |  8.104e-05 |    0.930 |    0.035 |   2 |\n",
      "|  51 |  7.542e-05 |    0.931 |    0.033 |   2 |\n",
      "|  52 |  7.023e-05 |    0.931 |    0.020 |   1 |\n",
      "|  53 |  6.544e-05 |    0.932 |    0.020 |   1 |\n",
      "|  54 |  6.100e-05 |    0.932 |    0.020 |   1 |\n",
      "|  55 |  5.691e-05 |    0.933 |    0.020 |   1 |\n",
      "|  56 |  5.311e-05 |    0.933 |    0.020 |   1 |\n",
      "|  57 |  4.961e-05 |    0.934 |    0.020 |   1 |\n",
      "|  58 |  4.636e-05 |    0.935 |    0.025 |   1 |\n",
      "|  59 |  4.336e-05 |    0.935 |    0.019 |   1 |\n",
      "|  60 |  4.058e-05 |    0.936 |    0.020 |   1 |\n",
      "|  61 |  3.800e-05 |    0.937 |    0.020 |   1 |\n",
      "|  62 |  3.562e-05 |    0.937 |    0.020 |   1 |\n",
      "|  63 |  3.341e-05 |    0.938 |    0.019 |   1 |\n",
      "|  64 |  3.136e-05 |    0.939 |    0.019 |   1 |\n",
      "|  65 |  2.947e-05 |    0.940 |    0.020 |   1 |\n",
      "|  66 |  2.771e-05 |    0.940 |    0.022 |   1 |\n",
      "|  67 |  2.609e-05 |    0.941 |    0.020 |   1 |\n",
      "|  68 |  2.459e-05 |    0.942 |    0.020 |   1 |\n",
      "|  69 |  2.320e-05 |    0.944 |    0.020 |   1 |\n",
      "|  70 |  2.191e-05 |    0.945 |    0.020 |   1 |\n",
      "|  71 |  2.073e-05 |    0.946 |    0.020 |   1 |\n",
      "|  72 |  1.964e-05 |    0.947 |    0.021 |   1 |\n",
      "|  73 |  1.865e-05 |    0.949 |    0.020 |   1 |\n",
      "|  74 |  1.774e-05 |    0.951 |    0.020 |   1 |\n",
      "|  75 |  1.692e-05 |    0.954 |    0.019 |   1 |\n",
      "|  76 |  1.620e-05 |    0.957 |    0.020 |   1 |\n",
      "|  77 |  1.551e-05 |    0.958 |    0.020 |   1 |\n",
      "|  78 |  1.484e-05 |    0.957 |    0.020 |   1 |\n",
      "|  79 |  1.419e-05 |    0.956 |    0.021 |   1 |\n",
      "|  80 |  1.357e-05 |    0.956 |    0.020 |   1 |\n",
      "|  81 |  1.296e-05 |    0.955 |    0.020 |   1 |\n",
      "|  82 |  1.238e-05 |    0.955 |    0.021 |   1 |\n",
      "|  83 |  1.182e-05 |    0.954 |    0.020 |   1 |\n",
      "|  84 |  1.127e-05 |    0.954 |    0.020 |   1 |\n",
      "|  85 |  1.075e-05 |    0.954 |    0.020 |   1 |\n",
      "|  86 |  1.025e-05 |    0.953 |    0.021 |   1 |\n",
      "|  87 |  9.767e-06 |    0.953 |    0.020 |   1 |\n",
      "|  88 |  9.305e-06 |    0.953 |    0.020 |   1 |\n",
      "|  89 |  8.861e-06 |    0.952 |    0.021 |   1 |\n",
      "|  90 |  8.436e-06 |    0.952 |    0.020 |   1 |\n",
      "|  91 |  8.029e-06 |    0.952 |    0.021 |   1 |\n",
      "|  92 |  7.639e-06 |    0.951 |    0.019 |   1 |\n",
      "|  93 |  7.267e-06 |    0.951 |    0.020 |   1 |\n",
      "|  94 |  6.911e-06 |    0.951 |    0.021 |   1 |\n",
      "|  95 |  6.570e-06 |    0.951 |    0.020 |   1 |\n",
      "|  96 |  6.245e-06 |    0.951 |    0.020 |   1 |\n",
      "|  97 |  5.935e-06 |    0.950 |    0.020 |   1 |\n",
      "|  98 |  5.638e-06 |    0.950 |    0.020 |   1 |\n",
      "|  99 |  5.356e-06 |    0.950 |    0.020 |   1 |\n",
      "| 100 |  5.087e-06 |    0.950 |    0.021 |   1 |\n",
      "| 101 |  4.830e-06 |    0.950 |    0.021 |   1 |\n",
      "| 102 |  4.586e-06 |    0.949 |    0.020 |   1 |\n",
      "| 103 |  4.353e-06 |    0.949 |    0.020 |   1 |\n",
      "| 104 |  4.131e-06 |    0.949 |    0.021 |   1 |\n",
      "| 105 |  3.920e-06 |    0.949 |    0.022 |   1 |\n",
      "| 106 |  3.719e-06 |    0.949 |    0.020 |   1 |\n",
      "| 107 |  3.528e-06 |    0.949 |    0.020 |   1 |\n",
      "| 108 |  3.346e-06 |    0.949 |    0.020 |   1 |\n",
      "| 109 |  3.174e-06 |    0.948 |    0.020 |   1 |\n",
      "| 110 |  3.009e-06 |    0.948 |    0.021 |   1 |\n",
      "| 111 |  2.853e-06 |    0.948 |    0.021 |   1 |\n",
      "| 112 |  2.705e-06 |    0.948 |    0.020 |   1 |\n",
      "| 113 |  2.564e-06 |    0.948 |    0.021 |   1 |\n",
      "| 114 |  2.431e-06 |    0.948 |    0.020 |   1 |\n",
      "| 115 |  2.304e-06 |    0.948 |    0.023 |   1 |\n",
      "| 116 |  2.183e-06 |    0.948 |    0.022 |   1 |\n",
      "| 117 |  2.069e-06 |    0.948 |    0.023 |   1 |\n",
      "| 118 |  1.960e-06 |    0.947 |    0.021 |   1 |\n",
      "| 119 |  1.857e-06 |    0.947 |    0.020 |   1 |\n",
      "| 120 |  1.759e-06 |    0.947 |    0.019 |   1 |\n",
      "| 121 |  1.666e-06 |    0.947 |    0.020 |   1 |\n",
      "| 122 |  1.578e-06 |    0.947 |    0.020 |   1 |\n",
      "| 123 |  1.495e-06 |    0.947 |    0.020 |   1 |\n",
      "| 124 |  1.416e-06 |    0.947 |    0.020 |   1 |\n",
      "| 125 |  1.341e-06 |    0.947 |    0.020 |   1 |\n",
      "| 126 |  1.269e-06 |    0.947 |    0.019 |   1 |\n",
      "| 127 |  1.202e-06 |    0.947 |    0.020 |   1 |\n",
      "| 128 |  1.138e-06 |    0.947 |    0.020 |   1 |\n",
      "| 129 |  1.077e-06 |    0.947 |    0.019 |   1 |\n",
      "| 130 |  1.020e-06 |    0.947 |    0.027 |   1 |\n",
      "| 131 |  9.656e-07 |    0.947 |    0.029 |   1 |\n",
      "| 132 |  9.141e-07 |    0.947 |    0.025 |   1 |\n",
      "| 133 |  8.652e-07 |    0.947 |    0.020 |   1 |\n",
      "| 134 |  8.189e-07 |    0.947 |    0.021 |   1 |\n",
      "| 135 |  7.751e-07 |    0.946 |    0.020 |   1 |\n",
      "| 136 |  7.336e-07 |    0.946 |    0.020 |   1 |\n",
      "| 137 |  6.943e-07 |    0.946 |    0.020 |   1 |\n",
      "| 138 |  6.570e-07 |    0.946 |    0.020 |   1 |\n",
      "| 139 |  6.218e-07 |    0.946 |    0.020 |   1 |\n",
      "| 140 |  5.884e-07 |    0.946 |    0.020 |   1 |\n",
      "| 141 |  5.568e-07 |    0.946 |    0.026 |   1 |\n",
      "| 142 |  5.268e-07 |    0.946 |    0.020 |   1 |\n",
      "| 143 |  4.985e-07 |    0.946 |    0.020 |   1 |\n",
      "| 144 |  4.716e-07 |    0.946 |    0.020 |   1 |\n",
      "| 145 |  4.462e-07 |    0.946 |    0.020 |   1 |\n",
      "| 146 |  4.222e-07 |    0.946 |    0.020 |   1 |\n",
      "| 147 |  3.994e-07 |    0.946 |    0.020 |   1 |\n",
      "| 148 |  3.779e-07 |    0.946 |    0.020 |   1 |\n",
      "| 149 |  3.575e-07 |    0.946 |    0.020 |   1 |\n",
      "| 150 |  3.382e-07 |    0.946 |    0.020 |   1 |\n",
      "| 151 |  3.199e-07 |    0.946 |    0.021 |   1 |\n",
      "| 152 |  3.026e-07 |    0.946 |    0.020 |   1 |\n",
      "| 153 |  2.863e-07 |    0.946 |    0.020 |   1 |\n",
      "| 154 |  2.708e-07 |    0.946 |    0.020 |   1 |\n",
      "| 155 |  2.562e-07 |    0.946 |    0.020 |   1 |\n",
      "| 156 |  2.423e-07 |    0.946 |    0.021 |   1 |\n",
      "| 157 |  2.292e-07 |    0.946 |    0.023 |   1 |\n",
      "| 158 |  2.168e-07 |    0.946 |    0.022 |   1 |\n",
      "| 159 |  2.050e-07 |    0.946 |    0.020 |   1 |\n",
      "| 160 |  1.939e-07 |    0.946 |    0.020 |   1 |\n",
      "| 161 |  1.834e-07 |    0.946 |    0.020 |   1 |\n",
      "| 162 |  1.735e-07 |    0.946 |    0.020 |   1 |\n",
      "| 163 |  1.641e-07 |    0.946 |    0.021 |   1 |\n",
      "| 164 |  1.552e-07 |    0.946 |    0.021 |   1 |\n",
      "| 165 |  1.468e-07 |    0.946 |    0.020 |   1 |\n",
      "| 166 |  1.388e-07 |    0.946 |    0.020 |   1 |\n",
      "| 167 |  1.313e-07 |    0.946 |    0.020 |   1 |\n",
      "| 168 |  1.241e-07 |    0.946 |    0.020 |   1 |\n",
      "| 169 |  1.174e-07 |    0.946 |    0.020 |   1 |\n",
      "| 170 |  1.110e-07 |    0.946 |    0.020 |   1 |\n",
      "| 171 |  1.050e-07 |    0.946 |    0.020 |   1 |\n",
      "| 172 |  9.929e-08 |    0.946 |    0.020 |   1 |\n",
      "| 173 |  9.389e-08 |    0.946 |    0.020 |   1 |\n",
      "| 174 |  8.879e-08 |    0.946 |    0.021 |   1 |\n",
      "| 175 |  8.396e-08 |    0.946 |    0.019 |   1 |\n",
      "| 176 |  7.940e-08 |    0.946 |    0.020 |   1 |\n",
      "| 177 |  7.508e-08 |    0.946 |    0.021 |   1 |\n",
      "| 178 |  7.100e-08 |    0.946 |    0.020 |   1 |\n",
      "| 179 |  6.714e-08 |    0.946 |    0.020 |   1 |\n",
      "| 180 |  6.349e-08 |    0.946 |    0.020 |   1 |\n",
      "| 181 |  6.003e-08 |    0.946 |    0.020 |   1 |\n",
      "| 182 |  5.677e-08 |    0.946 |    0.020 |   1 |\n",
      "| 183 |  5.368e-08 |    0.946 |    0.020 |   1 |\n",
      "| 184 |  5.076e-08 |    0.946 |    0.020 |   1 |\n",
      "| 185 |  4.800e-08 |    0.946 |    0.020 |   1 |\n",
      "| 186 |  4.538e-08 |    0.946 |    0.020 |   1 |\n",
      "| 187 |  4.291e-08 |    0.946 |    0.021 |   1 |\n",
      "| 188 |  4.058e-08 |    0.946 |    0.020 |   1 |\n",
      "| 189 |  3.837e-08 |    0.946 |    0.021 |   1 |\n",
      "| 190 |  3.628e-08 |    0.946 |    0.021 |   1 |\n",
      "| 191 |  3.430e-08 |    0.946 |    0.020 |   1 |\n",
      "| 192 |  3.243e-08 |    0.946 |    0.033 |   1 |\n",
      "| 193 |  3.067e-08 |    0.946 |    0.020 |   1 |\n",
      "| 194 |  2.900e-08 |    0.946 |    0.029 |   1 |\n",
      "| 195 |  2.742e-08 |    0.946 |    0.020 |   1 |\n",
      "| 196 |  2.592e-08 |    0.946 |    0.020 |   1 |\n",
      "| 197 |  2.451e-08 |    0.946 |    0.020 |   1 |\n",
      "| 198 |  2.318e-08 |    0.946 |    0.020 |   1 |\n",
      "| 199 |  2.191e-08 |    0.946 |    0.020 |   1 |\n",
      "| 200 |  2.072e-08 |    0.946 |    0.021 |   1 |\n",
      "| 201 |  1.959e-08 |    0.946 |    0.021 |   1 |\n",
      "| 202 |  1.852e-08 |    0.946 |    0.020 |   1 |\n",
      "| 203 |  1.751e-08 |    0.945 |    0.021 |   1 |\n",
      "| 204 |  1.656e-08 |    0.945 |    0.020 |   1 |\n",
      "| 205 |  1.566e-08 |    0.945 |    0.019 |   1 |\n",
      "| 206 |  1.480e-08 |    0.945 |    0.021 |   1 |\n",
      "| 207 |  1.400e-08 |    0.945 |    0.021 |   1 |\n",
      "| 208 |  1.323e-08 |    0.945 |    0.020 |   1 |\n",
      "| 209 |  1.251e-08 |    0.945 |    0.029 |   1 |\n",
      "| 210 |  1.183e-08 |    0.945 |    0.020 |   1 |\n",
      "| 211 |  1.118e-08 |    0.945 |    0.020 |   1 |\n",
      "| 212 |  1.057e-08 |    0.945 |    0.020 |   1 |\n",
      "| 213 |  9.998e-09 |    0.945 |    0.021 |   1 |\n",
      "------------------------------------------------\n",
      "Elapsed: 5.930867671966553 seconds.\n",
      "------------------------------------------------\n"
     ]
    },
    {
     "name": "stderr",
     "output_type": "stream",
     "text": [
      "\u001b[33mUserWarning\u001b[0m:/home/pablo/Programming/econforge/dolo/dolo/numeric/optimize/newton.py:150\n",
      "    Did not converge\n"
     ]
    }
   ],
   "source": [
    "# solve the model\n",
    "drp = approximate_controls(model, eigmax=1.0001)  # perturbation solution\n",
    "dr0 = time_iteration(model, initial_dr=drp, interp_type='spline',verbose=False)\n",
    "# increase number of quadrature to make solution smoother\n",
    "# increase number of interpolation points also\n",
    "dr = time_iteration(model, initial_dr=dr0, interp_type='spline', verbose=True,\n",
    "                    integration_orders=[10,10], interp_orders=[100])"
   ]
  },
  {
   "cell_type": "code",
   "execution_count": 8,
   "metadata": {
    "collapsed": false
   },
   "outputs": [
    {
     "data": {
      "text/plain": [
       "[<matplotlib.lines.Line2D at 0x7f614c64f7b8>]"
      ]
     },
     "execution_count": 8,
     "metadata": {},
     "output_type": "execute_result"
    },
    {
     "data": {
      "image/png": "[encoded data removed]",
      "text/plain": [
       "<matplotlib.figure.Figure at 0x7f614c64f7f0>"
      ]
     },
     "metadata": {},
     "output_type": "display_data"
    }
   ],
   "source": [
    "import pandas\n",
    "sim = simulate(model, dr,n_exp=1000)\n",
    "sim = pandas.Panel(sim.swapaxes(0,1), minor_axis=model.variables)\n",
    "for i in range(sim.shape[0]):\n",
    "    plt.plot(sim[i]['a'], color='red', alpha=0.05)\n",
    "plt.plot(sim.mean(axis=0)['a'])"
   ]
  },
  {
   "cell_type": "code",
   "execution_count": 9,
   "metadata": {
    "collapsed": false
   },
   "outputs": [
    {
     "data": {
      "text/plain": [
       "(0.6, 1.5)"
      ]
     },
     "execution_count": 9,
     "metadata": {},
     "output_type": "execute_result"
    },
    {
     "data": {
      "image/png": "[encoded data removed]",
      "text/plain": [
       "<matplotlib.figure.Figure at 0x7f6137638eb8>"
      ]
     },
     "metadata": {},
     "output_type": "display_data"
    }
   ],
   "source": [
    "y,r = model.get_calibration(['y','r'])\n",
    "sim = plot_decision_rule(model,dr,'m',n_steps=100)\n",
    "plt.plot(sim['m'],sim['c'])\n",
    "noacc = sim['m']-(sim['m']-y)/r\n",
    "plt.plot(sim['m'],noacc)\n",
    "plt.plot(sim['m'],sim['m'])\n",
    "# find intersection points\n",
    "d = numpy.array(sim['c'] - noacc)\n",
    "inds = numpy.where( (d[1:]*d[:-1])<0 )[0]\n",
    "for i in inds:\n",
    "    plt.plot(sim['m'][i], noacc[i],'o', color='red')\n",
    "# plt.ylim(0.9,1.1)\n",
    "plt.ylim(0.6,1.5)\n"
   ]
  }
 ],
 "metadata": {
  "kernelspec": {
   "display_name": "Python 3",
   "language": "python",
   "name": "python3"
  },
  "language_info": {
   "codemirror_mode": {
    "name": "ipython",
    "version": 3
   },
   "file_extension": ".py",
   "mimetype": "text/x-python",
   "name": "python",
   "nbconvert_exporter": "python",
   "pygments_lexer": "ipython3",
   "version": "3.4.4"
  }
 },
 "nbformat": 4,
 "nbformat_minor": 0
}
